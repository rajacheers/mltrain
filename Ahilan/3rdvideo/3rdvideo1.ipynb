{
 "cells": [
  {
   "cell_type": "code",
   "execution_count": 9,
   "metadata": {},
   "outputs": [
    {
     "name": "stdout",
     "output_type": "stream",
     "text": [
      "Random starting synaptic weights: \n",
      "[[-0.16595599]\n",
      " [ 0.44064899]\n",
      " [-0.99977125]]\n",
      "New synaptic weights after training: \n",
      "[[-0.16595599]\n",
      " [ 4.93121628]\n",
      " [ 4.93024106]]\n",
      "Considering new situation [1, 1, 1] -> ?: \n",
      "[ 0.45860596]\n"
     ]
    }
   ],
   "source": [
    "from numpy import exp, array, random, dot\n",
    "\n",
    "\n",
    "class NeuralNetwork():\n",
    "    def __init__(self):\n",
    "        random.seed(1)\n",
    "        self.synaptic_weights = 2 * random.random((3, 1)) - 1\n",
    "    def __sigmoid(self, x):\n",
    "        return 1 / (1 + exp(-x))\n",
    "    def __sigmoid_derivative(self, x):\n",
    "        return x * (1 - x)\n",
    "    def train(self, training_set_inputs, training_set_outputs, number_of_training_iterations):\n",
    "        for iteration in xrange(number_of_training_iterations):\n",
    "           .\n",
    "            output = self.think(training_set_inputs)\n",
    "\n",
    "           \n",
    "            error = training_set_outputs - output\n",
    "\n",
    "        \n",
    "            adjustment = dot(training_set_inputs.T, error * self.__sigmoid_derivative(output))\n",
    "\n",
    "           \n",
    "            self.synaptic_weights += adjustment\n",
    "\n",
    "   \n",
    "    def think(self, inputs):\n",
    "       \n",
    "        return self.__sigmoid(dot(inputs, self.synaptic_weights))\n",
    "\n",
    "\n",
    "if __name__ == \"__main__\":\n",
    "\n",
    "  \n",
    "    neural_network = NeuralNetwork()\n",
    "    print \"Random starting synaptic weights: \"\n",
    "    print neural_network.synaptic_weights\n",
    "\n",
    "    training_set_inputs = array([[0, 0, 0], [0, 0, 1], [0, 1, 0], [0, 1, 1]])\n",
    "    training_set_outputs = array([[1, 1, 1, 1]]).T\n",
    "\n",
    "   \n",
    "    neural_network.train(training_set_inputs, training_set_outputs, 10000)\n",
    "\n",
    "    print \"New synaptic weights after training: \"\n",
    "    print neural_network.synaptic_weights\n",
    "    print \"Considering new situation [1, 0, 0] -> ?: \"\n",
    "    print neural_network.think(array([1, 0, 0]))\n"
   ]
  },
  {
   "cell_type": "code",
   "execution_count": null,
   "metadata": {
    "collapsed": true
   },
   "outputs": [],
   "source": []
  }
 ],
 "metadata": {
  "kernelspec": {
   "display_name": "Python 2",
   "language": "python",
   "name": "python2"
  },
  "language_info": {
   "codemirror_mode": {
    "name": "ipython",
    "version": 2
   },
   "file_extension": ".py",
   "mimetype": "text/x-python",
   "name": "python",
   "nbconvert_exporter": "python",
   "pygments_lexer": "ipython2",
   "version": "2.7.12"
  }
 },
 "nbformat": 4,
 "nbformat_minor": 2
}

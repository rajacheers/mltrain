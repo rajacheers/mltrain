{
 "cells": [
  {
   "cell_type": "code",
   "execution_count": 24,
   "metadata": {},
   "outputs": [
    {
     "data": {
      "text/html": [
       "<div>\n",
       "<style>\n",
       "    .dataframe thead tr:only-child th {\n",
       "        text-align: right;\n",
       "    }\n",
       "\n",
       "    .dataframe thead th {\n",
       "        text-align: left;\n",
       "    }\n",
       "\n",
       "    .dataframe tbody tr th {\n",
       "        vertical-align: top;\n",
       "    }\n",
       "</style>\n",
       "<table border=\"1\" class=\"dataframe\">\n",
       "  <thead>\n",
       "    <tr style=\"text-align: right;\">\n",
       "      <th></th>\n",
       "      <th>bathrooms</th>\n",
       "      <th>price</th>\n",
       "    </tr>\n",
       "  </thead>\n",
       "  <tbody>\n",
       "    <tr>\n",
       "      <th>0</th>\n",
       "      <td>3.0</td>\n",
       "      <td>399900.0</td>\n",
       "    </tr>\n",
       "    <tr>\n",
       "      <th>1</th>\n",
       "      <td>3.0</td>\n",
       "      <td>329900.0</td>\n",
       "    </tr>\n",
       "    <tr>\n",
       "      <th>2</th>\n",
       "      <td>3.0</td>\n",
       "      <td>369000.0</td>\n",
       "    </tr>\n",
       "    <tr>\n",
       "      <th>3</th>\n",
       "      <td>2.0</td>\n",
       "      <td>232000.0</td>\n",
       "    </tr>\n",
       "    <tr>\n",
       "      <th>4</th>\n",
       "      <td>4.0</td>\n",
       "      <td>539900.0</td>\n",
       "    </tr>\n",
       "    <tr>\n",
       "      <th>5</th>\n",
       "      <td>4.0</td>\n",
       "      <td>299900.0</td>\n",
       "    </tr>\n",
       "    <tr>\n",
       "      <th>6</th>\n",
       "      <td>3.0</td>\n",
       "      <td>314900.0</td>\n",
       "    </tr>\n",
       "    <tr>\n",
       "      <th>7</th>\n",
       "      <td>3.0</td>\n",
       "      <td>198999.0</td>\n",
       "    </tr>\n",
       "    <tr>\n",
       "      <th>8</th>\n",
       "      <td>3.0</td>\n",
       "      <td>212000.0</td>\n",
       "    </tr>\n",
       "    <tr>\n",
       "      <th>9</th>\n",
       "      <td>3.0</td>\n",
       "      <td>242500.0</td>\n",
       "    </tr>\n",
       "  </tbody>\n",
       "</table>\n",
       "</div>"
      ],
      "text/plain": [
       "   bathrooms     price\n",
       "0        3.0  399900.0\n",
       "1        3.0  329900.0\n",
       "2        3.0  369000.0\n",
       "3        2.0  232000.0\n",
       "4        4.0  539900.0\n",
       "5        4.0  299900.0\n",
       "6        3.0  314900.0\n",
       "7        3.0  198999.0\n",
       "8        3.0  212000.0\n",
       "9        3.0  242500.0"
      ]
     },
     "execution_count": 24,
     "metadata": {},
     "output_type": "execute_result"
    }
   ],
   "source": [
    "%matplotlib inline \n",
    "import pandas as pd            \n",
    "import numpy as np              \n",
    "import matplotlib.pyplot as plt\n",
    "import tensorflow as tf        \n",
    "dataframe = pd.read_csv(\"data.csv\") \n",
    "dataframe = dataframe.drop([\"index\", \"area\", \"sq_price\"], axis=1) \n",
    "dataframe = dataframe[0:10]\n",
    "dataframe"
   ]
  },
  {
   "cell_type": "code",
   "execution_count": 25,
   "metadata": {},
   "outputs": [
    {
     "data": {
      "text/html": [
       "<div>\n",
       "<style>\n",
       "    .dataframe thead tr:only-child th {\n",
       "        text-align: right;\n",
       "    }\n",
       "\n",
       "    .dataframe thead th {\n",
       "        text-align: left;\n",
       "    }\n",
       "\n",
       "    .dataframe tbody tr th {\n",
       "        vertical-align: top;\n",
       "    }\n",
       "</style>\n",
       "<table border=\"1\" class=\"dataframe\">\n",
       "  <thead>\n",
       "    <tr style=\"text-align: right;\">\n",
       "      <th></th>\n",
       "      <th>bathrooms</th>\n",
       "      <th>price</th>\n",
       "      <th>y1</th>\n",
       "      <th>y2</th>\n",
       "    </tr>\n",
       "  </thead>\n",
       "  <tbody>\n",
       "    <tr>\n",
       "      <th>0</th>\n",
       "      <td>3.0</td>\n",
       "      <td>399900.0</td>\n",
       "      <td>1</td>\n",
       "      <td>0</td>\n",
       "    </tr>\n",
       "    <tr>\n",
       "      <th>1</th>\n",
       "      <td>3.0</td>\n",
       "      <td>329900.0</td>\n",
       "      <td>0</td>\n",
       "      <td>1</td>\n",
       "    </tr>\n",
       "    <tr>\n",
       "      <th>2</th>\n",
       "      <td>3.0</td>\n",
       "      <td>369000.0</td>\n",
       "      <td>0</td>\n",
       "      <td>1</td>\n",
       "    </tr>\n",
       "    <tr>\n",
       "      <th>3</th>\n",
       "      <td>2.0</td>\n",
       "      <td>232000.0</td>\n",
       "      <td>0</td>\n",
       "      <td>1</td>\n",
       "    </tr>\n",
       "    <tr>\n",
       "      <th>4</th>\n",
       "      <td>4.0</td>\n",
       "      <td>539900.0</td>\n",
       "      <td>0</td>\n",
       "      <td>1</td>\n",
       "    </tr>\n",
       "    <tr>\n",
       "      <th>5</th>\n",
       "      <td>4.0</td>\n",
       "      <td>299900.0</td>\n",
       "      <td>0</td>\n",
       "      <td>1</td>\n",
       "    </tr>\n",
       "    <tr>\n",
       "      <th>6</th>\n",
       "      <td>3.0</td>\n",
       "      <td>314900.0</td>\n",
       "      <td>0</td>\n",
       "      <td>1</td>\n",
       "    </tr>\n",
       "    <tr>\n",
       "      <th>7</th>\n",
       "      <td>3.0</td>\n",
       "      <td>198999.0</td>\n",
       "      <td>0</td>\n",
       "      <td>1</td>\n",
       "    </tr>\n",
       "    <tr>\n",
       "      <th>8</th>\n",
       "      <td>3.0</td>\n",
       "      <td>212000.0</td>\n",
       "      <td>0</td>\n",
       "      <td>1</td>\n",
       "    </tr>\n",
       "    <tr>\n",
       "      <th>9</th>\n",
       "      <td>3.0</td>\n",
       "      <td>242500.0</td>\n",
       "      <td>1</td>\n",
       "      <td>0</td>\n",
       "    </tr>\n",
       "  </tbody>\n",
       "</table>\n",
       "</div>"
      ],
      "text/plain": [
       "   bathrooms     price  y1  y2\n",
       "0        3.0  399900.0   1   0\n",
       "1        3.0  329900.0   0   1\n",
       "2        3.0  369000.0   0   1\n",
       "3        2.0  232000.0   0   1\n",
       "4        4.0  539900.0   0   1\n",
       "5        4.0  299900.0   0   1\n",
       "6        3.0  314900.0   0   1\n",
       "7        3.0  198999.0   0   1\n",
       "8        3.0  212000.0   0   1\n",
       "9        3.0  242500.0   1   0"
      ]
     },
     "execution_count": 25,
     "metadata": {},
     "output_type": "execute_result"
    }
   ],
   "source": [
    "dataframe.loc[:, (\"y1\")] = [1, 0, 0, 0, 0, 0, 0, 0, 0, 1] \n",
    "                                                          \n",
    "dataframe.loc[:, (\"y2\")] = dataframe[\"y1\"] == 0           \n",
    "dataframe.loc[:, (\"y2\")] = dataframe[\"y2\"].astype(int)    \n",
    "dataframe \n"
   ]
  },
  {
   "cell_type": "code",
   "execution_count": 26,
   "metadata": {
    "collapsed": true
   },
   "outputs": [],
   "source": [
    "inputX = dataframe.loc[:, ['bathrooms', 'price']].as_matrix()\n",
    "inputY = dataframe.loc[:, [\"y1\", \"y2\"]].as_matrix()"
   ]
  },
  {
   "cell_type": "code",
   "execution_count": 27,
   "metadata": {},
   "outputs": [
    {
     "data": {
      "text/plain": [
       "array([[  3.00000000e+00,   3.99900000e+05],\n",
       "       [  3.00000000e+00,   3.29900000e+05],\n",
       "       [  3.00000000e+00,   3.69000000e+05],\n",
       "       [  2.00000000e+00,   2.32000000e+05],\n",
       "       [  4.00000000e+00,   5.39900000e+05],\n",
       "       [  4.00000000e+00,   2.99900000e+05],\n",
       "       [  3.00000000e+00,   3.14900000e+05],\n",
       "       [  3.00000000e+00,   1.98999000e+05],\n",
       "       [  3.00000000e+00,   2.12000000e+05],\n",
       "       [  3.00000000e+00,   2.42500000e+05]])"
      ]
     },
     "execution_count": 27,
     "metadata": {},
     "output_type": "execute_result"
    }
   ],
   "source": [
    "inputX"
   ]
  },
  {
   "cell_type": "code",
   "execution_count": 28,
   "metadata": {},
   "outputs": [
    {
     "data": {
      "text/plain": [
       "array([[1, 0],\n",
       "       [0, 1],\n",
       "       [0, 1],\n",
       "       [0, 1],\n",
       "       [0, 1],\n",
       "       [0, 1],\n",
       "       [0, 1],\n",
       "       [0, 1],\n",
       "       [0, 1],\n",
       "       [1, 0]])"
      ]
     },
     "execution_count": 28,
     "metadata": {},
     "output_type": "execute_result"
    }
   ],
   "source": [
    "inputY"
   ]
  },
  {
   "cell_type": "code",
   "execution_count": 29,
   "metadata": {
    "collapsed": true
   },
   "outputs": [],
   "source": [
    "learning_rate = 0.000001\n",
    "training_epochs = 2000\n",
    "display_step = 50\n",
    "n_samples = inputY.size"
   ]
  },
  {
   "cell_type": "code",
   "execution_count": 30,
   "metadata": {
    "collapsed": true
   },
   "outputs": [],
   "source": [
    "x = tf.placeholder(tf.float32, [None, 2])   \n",
    "            \n",
    "W = tf.Variable(tf.zeros([2, 2]))           \n",
    "    \n",
    "b = tf.Variable(tf.zeros([2]))              \n",
    "\n",
    "y_values = tf.add(tf.matmul(x, W), b)       \n",
    "    \n",
    "y = tf.nn.sigmoid(y_values)                 \n",
    "    \n",
    "y_ = tf.placeholder(tf.float32, [None,2])"
   ]
  },
  {
   "cell_type": "code",
   "execution_count": 31,
   "metadata": {},
   "outputs": [
    {
     "name": "stdout",
     "output_type": "stream",
     "text": [
      "WARNING:tensorflow:From <ipython-input-31-37be6195bdc9>:3: initialize_all_variables (from tensorflow.python.ops.variables) is deprecated and will be removed after 2017-03-02.\n",
      "Instructions for updating:\n",
      "Use `tf.global_variables_initializer` instead.\n",
      "Training step: 0000 cost= 0.100000001\n",
      "Training step: 0050 cost= 0.100000001\n",
      "Training step: 0100 cost= 0.100000001\n",
      "Training step: 0150 cost= 0.100000001\n",
      "Training step: 0200 cost= 0.100000001\n",
      "Training step: 0250 cost= 0.100000001\n",
      "Training step: 0300 cost= 0.100000001\n",
      "Training step: 0350 cost= 0.100000001\n",
      "Training step: 0400 cost= 0.100000001\n",
      "Training step: 0450 cost= 0.100000001\n",
      "Training step: 0500 cost= 0.100000001\n",
      "Training step: 0550 cost= 0.100000001\n",
      "Training step: 0600 cost= 0.100000001\n",
      "Training step: 0650 cost= 0.100000001\n",
      "Training step: 0700 cost= 0.100000001\n",
      "Training step: 0750 cost= 0.100000001\n",
      "Training step: 0800 cost= 0.100000001\n",
      "Training step: 0850 cost= 0.100000001\n",
      "Training step: 0900 cost= 0.100000001\n",
      "Training step: 0950 cost= 0.100000001\n",
      "Training step: 1000 cost= 0.100000001\n",
      "Training step: 1050 cost= 0.100000001\n",
      "Training step: 1100 cost= 0.100000001\n",
      "Training step: 1150 cost= 0.100000001\n",
      "Training step: 1200 cost= 0.100000001\n",
      "Training step: 1250 cost= 0.100000001\n",
      "Training step: 1300 cost= 0.100000001\n",
      "Training step: 1350 cost= 0.100000001\n",
      "Training step: 1400 cost= 0.100000001\n",
      "Training step: 1450 cost= 0.100000001\n",
      "Training step: 1500 cost= 0.100000001\n",
      "Training step: 1550 cost= 0.100000001\n",
      "Training step: 1600 cost= 0.100000001\n",
      "Training step: 1650 cost= 0.100000001\n",
      "Training step: 1700 cost= 0.100000001\n",
      "Training step: 1750 cost= 0.100000001\n",
      "Training step: 1800 cost= 0.100000001\n",
      "Training step: 1850 cost= 0.100000001\n",
      "Training step: 1900 cost= 0.100000001\n",
      "Training step: 1950 cost= 0.100000001\n",
      "Optimization Finished!\n",
      "Training cost= 0.1 W= [[ -1.18749988e-07   1.18749988e-07]\n",
      " [ -1.15887439e-02   1.15887439e-02]] b= [ -3.75000013e-08   3.75000013e-08] \n",
      "\n"
     ]
    }
   ],
   "source": [
    "cost = tf.reduce_sum(tf.pow(y_ - y, 2))/(2*n_samples)\n",
    "optimizer = tf.train.GradientDescentOptimizer(learning_rate).minimize(cost)\n",
    "init = tf.initialize_all_variables()\n",
    "sess = tf.Session()\n",
    "sess.run(init)\n",
    "for i in range(training_epochs):  \n",
    "    sess.run(optimizer, feed_dict={x: inputX, y_: inputY}) \n",
    "\n",
    "    if (i) % display_step == 0:\n",
    "        cc = sess.run(cost, feed_dict={x: inputX, y_:inputY})\n",
    "        print \"Training step:\", '%04d' % (i), \"cost=\", \"{:.9f}\".format(cc)\n",
    "print \"Optimization Finished!\"\n",
    "training_cost = sess.run(cost, feed_dict={x: inputX, y_: inputY})\n",
    "print \"Training cost=\", training_cost, \"W=\", sess.run(W), \"b=\", sess.run(b), '\\n'"
   ]
  },
  {
   "cell_type": "code",
   "execution_count": 32,
   "metadata": {},
   "outputs": [
    {
     "data": {
      "text/plain": [
       "array([[ 0.,  1.],\n",
       "       [ 0.,  1.],\n",
       "       [ 0.,  1.],\n",
       "       [ 0.,  1.],\n",
       "       [ 0.,  1.],\n",
       "       [ 0.,  1.],\n",
       "       [ 0.,  1.],\n",
       "       [ 0.,  1.],\n",
       "       [ 0.,  1.],\n",
       "       [ 0.,  1.]], dtype=float32)"
      ]
     },
     "execution_count": 32,
     "metadata": {},
     "output_type": "execute_result"
    }
   ],
   "source": [
    "sess.run(y, feed_dict={x: inputX })"
   ]
  },
  {
   "cell_type": "code",
   "execution_count": 33,
   "metadata": {},
   "outputs": [
    {
     "data": {
      "text/plain": [
       "array([ 0.7310586 ,  0.88079703], dtype=float32)"
      ]
     },
     "execution_count": 33,
     "metadata": {},
     "output_type": "execute_result"
    }
   ],
   "source": [
    "sess.run(tf.nn.sigmoid([1., 2.]))"
   ]
  },
  {
   "cell_type": "code",
   "execution_count": null,
   "metadata": {
    "collapsed": true
   },
   "outputs": [],
   "source": []
  }
 ],
 "metadata": {
  "kernelspec": {
   "display_name": "Python 2",
   "language": "python",
   "name": "python2"
  },
  "language_info": {
   "codemirror_mode": {
    "name": "ipython",
    "version": 2
   },
   "file_extension": ".py",
   "mimetype": "text/x-python",
   "name": "python",
   "nbconvert_exporter": "python",
   "pygments_lexer": "ipython2",
   "version": "2.7.12"
  }
 },
 "nbformat": 4,
 "nbformat_minor": 2
}

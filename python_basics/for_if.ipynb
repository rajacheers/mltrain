{
 "cells": [
  {
   "cell_type": "code",
   "execution_count": 13,
   "metadata": {
    "collapsed": false
   },
   "outputs": [],
   "source": [
    "a=[1,2,3,'d']\n",
    "c={'tamilnadu':[1,2], 'karnataka':[3,4,5]}"
   ]
  },
  {
   "cell_type": "code",
   "execution_count": 14,
   "metadata": {
    "collapsed": false
   },
   "outputs": [
    {
     "name": "stdout",
     "output_type": "stream",
     "text": [
      "1 <type 'int'>\n",
      "2 <type 'int'>\n",
      "3 <type 'int'>\n",
      "d <type 'str'>\n"
     ]
    }
   ],
   "source": [
    "for b in a:\n",
    "    print b, type(b)"
   ]
  },
  {
   "cell_type": "code",
   "execution_count": 15,
   "metadata": {
    "collapsed": false
   },
   "outputs": [
    {
     "name": "stdout",
     "output_type": "stream",
     "text": [
      "karnataka 3\n",
      "karnataka 4\n",
      "karnataka 5\n",
      "tamilnadu 1\n",
      "tamilnadu 2\n"
     ]
    }
   ],
   "source": [
    "for d in c:\n",
    "    for e in c[d]:\n",
    "        print d, e"
   ]
  },
  {
   "cell_type": "code",
   "execution_count": 25,
   "metadata": {
    "collapsed": false
   },
   "outputs": [
    {
     "name": "stdout",
     "output_type": "stream",
     "text": [
      "a equal b\n"
     ]
    }
   ],
   "source": [
    "a=17\n",
    "b=17\n",
    "if a<b:\n",
    "    print 'a leass than b'\n",
    "elif a==b:\n",
    "    print 'a equal b'\n",
    "else:\n",
    "    print 'b less than a'"
   ]
  },
  {
   "cell_type": "code",
   "execution_count": 20,
   "metadata": {
    "collapsed": false
   },
   "outputs": [
    {
     "name": "stdout",
     "output_type": "stream",
     "text": [
      "True\n"
     ]
    }
   ],
   "source": [
    "a=4\n",
    "b=[1,2,3,4]\n",
    "if a in b:\n",
    "    print True"
   ]
  },
  {
   "cell_type": "code",
   "execution_count": 21,
   "metadata": {
    "collapsed": false
   },
   "outputs": [
    {
     "name": "stdout",
     "output_type": "stream",
     "text": [
      "a is none\n"
     ]
    }
   ],
   "source": [
    "a=None\n",
    "if a is None:\n",
    "    print 'a is none'"
   ]
  },
  {
   "cell_type": "code",
   "execution_count": 24,
   "metadata": {
    "collapsed": false
   },
   "outputs": [
    {
     "name": "stdout",
     "output_type": "stream",
     "text": [
      "[4, 8, 12, 16]\n"
     ]
    }
   ],
   "source": [
    "# list comprehension\n",
    "a=[1,2,3,4]\n",
    "c =[b*4 for b in a]\n",
    "print c"
   ]
  },
  {
   "cell_type": "code",
   "execution_count": null,
   "metadata": {
    "collapsed": true
   },
   "outputs": [],
   "source": []
  }
 ],
 "metadata": {
  "kernelspec": {
   "display_name": "Python 2",
   "language": "python",
   "name": "python2"
  },
  "language_info": {
   "codemirror_mode": {
    "name": "ipython",
    "version": 2
   },
   "file_extension": ".py",
   "mimetype": "text/x-python",
   "name": "python",
   "nbconvert_exporter": "python",
   "pygments_lexer": "ipython2",
   "version": "2.7.13"
  }
 },
 "nbformat": 4,
 "nbformat_minor": 2
}
